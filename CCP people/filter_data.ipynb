{
 "cells": [
  {
   "cell_type": "code",
   "execution_count": null,
   "metadata": {},
   "outputs": [],
   "source": [
    "from gensim.models import word2vec\n",
    "from sklearn.manifold import TSNE\n",
    "import matplotlib.pyplot as plt\n",
    "import networkx as nx\n",
    "import csv\n",
    "from node2vec import Node2Vec"
   ]
  },
  {
   "cell_type": "markdown",
   "metadata": {},
   "source": [
    "# Creating the Graph (example)\n",
    "\n",
    "bipartite graph is already created, but here's the process:"
   ]
  },
  {
   "cell_type": "code",
   "execution_count": null,
   "metadata": {},
   "outputs": [
    {
     "data": {
      "text/plain": [
       "True"
      ]
     },
     "execution_count": 30,
     "metadata": {},
     "output_type": "execute_result"
    }
   ],
   "source": [
    "B = nx.Graph()\n",
    "documents = []\n",
    "names = []\n",
    "edges = []\n",
    "# Add nodes with the node attribute \"bipartite\"\n",
    "with open('all_names.csv') as all_names:\n",
    "    name_reader = csv.reader(all_names)\n",
    "    for row in name_reader:\n",
    "        documents.append(row[0])\n",
    "        for name in row[1:]:\n",
    "            names.append(name)\n",
    "            edges.append((row[0], name))\n",
    "            \n",
    "B.add_nodes_from(documents, bipartite=0)\n",
    "B.add_nodes_from(names, bipartite=1)\n",
    "B.add_edges_from(edges)\n",
    "\n",
    "nx.is_bipartite(B)"
   ]
  },
  {
   "cell_type": "code",
   "execution_count": null,
   "metadata": {},
   "outputs": [],
   "source": [
    "# FILES\n",
    "EMBEDDING_FILENAME = './bipartite.emb'\n",
    "EMBEDDING_MODEL_FILENAME = './bipartite.model'\n",
    "\n",
    "# Precompute probabilities and generate walks\n",
    "node2vec = Node2Vec(B, dimensions=64, walk_length=30, num_walks=200, workers=4)\n",
    "\n",
    "# Embed\n",
    "model = node2vec.fit(window=10, min_count=1, batch_words=4)\n",
    "\n",
    "# Any keywords acceptable by gensim.Word2Vec can be passed,\n",
    "# `diemnsions` and `workers` are automatically passed (from the Node2Vec constructor)\n",
    "\n",
    "# Look for most similar nodes\n",
    "print(model.wv.most_similar('2'))  # Output node names are always strings\n",
    "\n",
    "# Save embeddings for later use\n",
    "model.wv.save_word2vec_format(EMBEDDING_FILENAME)\n",
    "\n",
    "# Save model for later use\n",
    "model.save(EMBEDDING_MODEL_FILENAME)"
   ]
  },
  {
   "cell_type": "markdown",
   "metadata": {},
   "source": [
    "# Loading the word2vec/node2vec model"
   ]
  },
  {
   "cell_type": "code",
   "execution_count": null,
   "metadata": {},
   "outputs": [],
   "source": [
    "model = word2vec.Word2Vec.load('bipartite.model')\n",
    "X = model.wv[model.wv.vocab]"
   ]
  },
  {
   "cell_type": "markdown",
   "metadata": {},
   "source": [
    "# Visualizing a word2vec model (with words)\n",
    "[Reference here](https://www.kaggle.com/jeffd23/visualizing-word-vectors-with-t-sne)"
   ]
  },
  {
   "cell_type": "code",
   "execution_count": 6,
   "metadata": {},
   "outputs": [],
   "source": [
    "labels = []\n",
    "tokens = []\n",
    "\n",
    "for word in model.wv.vocab:\n",
    "    tokens.append(model.wv[word])\n",
    "    labels.append(word)\n",
    "\n",
    "# Create TSNE model\n",
    "tsne_model = TSNE(perplexity=40, init='pca', n_iter=2500, random_state=23)\n",
    "new_values = tsne_model.fit_transform(tokens)\n",
    "\n",
    "x = []\n",
    "y = []\n",
    "for value in new_values:\n",
    "    x.append(value[0])\n",
    "    y.append(value[1])\n",
    "\n",
    "plt.figure(figsize=(16, 16)) \n",
    "\n",
    "for i in range(len(x)):\n",
    "    plt.scatter(x[i],y[i])\n",
    "    plt.annotate(labels[i],\n",
    "                 xy=(x[i], y[i]),\n",
    "                 xytext=(5, 2),\n",
    "                 textcoords='offset points',\n",
    "                 ha='right',\n",
    "                 va='bottom')\n",
    "plt.show()"
   ]
  }
 ],
 "metadata": {
  "kernelspec": {
   "display_name": "Python 3",
   "language": "python",
   "name": "python3"
  }
 },
 "nbformat": 4,
 "nbformat_minor": 1
}
