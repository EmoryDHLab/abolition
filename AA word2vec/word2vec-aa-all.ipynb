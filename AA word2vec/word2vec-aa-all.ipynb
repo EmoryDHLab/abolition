{
 "cells": [
  {
   "cell_type": "code",
   "execution_count": 6,
   "metadata": {},
   "outputs": [],
   "source": [
    "import gensim\n",
    "import logging\n",
    "import os\n",
    "import re\n",
    "import string"
   ]
  },
  {
   "cell_type": "code",
   "execution_count": 38,
   "metadata": {},
   "outputs": [],
   "source": [
    "# basic logging setup\n",
    "logging.basicConfig(format='%(asctime)s : %(levelname)s : %(message)s', level=logging.INFO)"
   ]
  },
  {
   "cell_type": "code",
   "execution_count": 10,
   "metadata": {},
   "outputs": [],
   "source": [
    "base_dir = \"accessible-v4.0-small\""
   ]
  },
  {
   "cell_type": "code",
   "execution_count": 11,
   "metadata": {},
   "outputs": [],
   "source": [
    "class MyArticles(object):\n",
    "    def __init__(self, base_dir):\n",
    "        self.base_dir = base_dir\n",
    "                                             \n",
    "    def __iter__(self):\n",
    "        papers = os.listdir(self.base_dir)\n",
    "        \n",
    "        for paper in papers:\n",
    "            if not paper.startswith('.'):\n",
    "                logging.info(\"Opening paper {0}\".format(paper))\n",
    "        \n",
    "                issues = os.listdir(base_dir + \"/\" + paper)\n",
    "        \n",
    "                for issue in issues:\n",
    "                    if not issue.startswith('.'):\n",
    "                        #logging.info(\"Opening issue {0}\".format(issue))\n",
    "                        articles = os.listdir(base_dir + \"/\" + paper + \"/\" + issue)\n",
    "\n",
    "                        for article in articles:\n",
    "                            if not article.startswith('.'):\n",
    "                               # logging.info(\"Reading article {0}\".format(article))\n",
    "                            \n",
    "                                articleFile = open(base_dir + \"/\" + paper + \"/\" + issue + \"/\" + article, \"r\")\n",
    "                                articleText = articleFile.read()\n",
    "                                articleFile.close()\n",
    "                    \n",
    "                                # create word list for the article; could refine to be sentences later \n",
    "                                articleWords = []\n",
    "               \n",
    "                                # ignore single-char words and words with numbers in them                        \n",
    "                                for word in re.split('\\W+', articleText):\n",
    "                                    if len(word) > 1 and not any(char.isdigit() for char in word):\n",
    "                                        # lowercase and add to list\n",
    "                                        articleWords.append(word.lower())\n",
    "                        \n",
    "                                yield articleWords"
   ]
  },
  {
   "cell_type": "code",
   "execution_count": 12,
   "metadata": {},
   "outputs": [
    {
     "name": "stdout",
     "output_type": "stream",
     "text": [
      "Created list of articles.\n"
     ]
    }
   ],
   "source": [
    "# get docs into the list of list formas\n",
    "\n",
    "articles = MyArticles(base_dir)"
   ]
  },
  {
   "cell_type": "code",
   "execution_count": 13,
   "metadata": {},
   "outputs": [],
   "source": [
    "# build vocab and train model\n",
    "model = gensim.models.Word2Vec(\n",
    "    articles,\n",
    "    min_count=2, # default is 5; this trims the corpus for words only used once; up to 100 is OK \n",
    "    size=100, # size of NN layers; default is 100; higher for larger corpora\n",
    "    workers=10) # parallel processing; needs Cython\n",
    "\n",
    "# save model\n",
    "model.save(base_dir + \"-w2v-model\")"
   ]
  },
  {
   "cell_type": "code",
   "execution_count": 15,
   "metadata": {},
   "outputs": [],
   "source": []
  },
  {
   "cell_type": "code",
   "execution_count": 20,
   "metadata": {},
   "outputs": [
    {
     "data": {
      "text/plain": [
       "[('great', 0.9999532699584961),\n",
       " ('most', 0.9999502897262573),\n",
       " ('against', 0.9999476671218872),\n",
       " ('with', 0.9999455213546753),\n",
       " ('like', 0.9999449253082275),\n",
       " ('without', 0.9999438524246216),\n",
       " ('among', 0.9999430179595947),\n",
       " ('being', 0.9999424815177917),\n",
       " ('into', 0.9999416470527649),\n",
       " ('an', 0.999941349029541)]"
      ]
     },
     "execution_count": 20,
     "metadata": {},
     "output_type": "execute_result"
    }
   ],
   "source": [
    "# testing some basic functions\n",
    "\n",
    "# basic similarity\n",
    "w1 = \"freedom\"\n",
    "model.wv.most_similar(positive=w1)"
   ]
  },
  {
   "cell_type": "code",
   "execution_count": 22,
   "metadata": {},
   "outputs": [
    {
     "data": {
      "text/plain": [
       "0.9998831061190858"
      ]
     },
     "execution_count": 22,
     "metadata": {},
     "output_type": "execute_result"
    }
   ],
   "source": [
    "# two word similarity \n",
    "\n",
    "model.wv.similarity(w1=\"freedom\",w2=\"justice\")"
   ]
  },
  {
   "cell_type": "code",
   "execution_count": 25,
   "metadata": {},
   "outputs": [
    {
     "data": {
      "text/plain": [
       "0.9974367023618899"
      ]
     },
     "execution_count": 25,
     "metadata": {},
     "output_type": "execute_result"
    }
   ],
   "source": [
    "model.wv.similarity(w1=\"freedom\",w2=\"abolition\")"
   ]
  },
  {
   "cell_type": "code",
   "execution_count": 26,
   "metadata": {},
   "outputs": [
    {
     "data": {
      "text/plain": [
       "0.9996274907535606"
      ]
     },
     "execution_count": 26,
     "metadata": {},
     "output_type": "execute_result"
    }
   ],
   "source": [
    "model.wv.similarity(w1=\"freedom\",w2=\"emancipation\")"
   ]
  },
  {
   "cell_type": "code",
   "execution_count": 27,
   "metadata": {},
   "outputs": [
    {
     "data": {
      "text/plain": [
       "0.9145890133346956"
      ]
     },
     "execution_count": 27,
     "metadata": {},
     "output_type": "execute_result"
    }
   ],
   "source": [
    "model.wv.similarity(w1=\"freedom\",w2=\"liberation\")"
   ]
  },
  {
   "cell_type": "code",
   "execution_count": 29,
   "metadata": {},
   "outputs": [
    {
     "data": {
      "text/plain": [
       "[('they', 0.9811407923698425),\n",
       " ('you', 0.980480432510376),\n",
       " ('mentioned', 0.9800600409507751),\n",
       " ('us', 0.9799489974975586),\n",
       " ('beach', 0.979884147644043),\n",
       " ('have', 0.9798733592033386),\n",
       " ('would', 0.9797930717468262),\n",
       " ('information', 0.979749858379364),\n",
       " ('taught', 0.979706883430481),\n",
       " ('longer', 0.9796891212463379)]"
      ]
     },
     "execution_count": 29,
     "metadata": {},
     "output_type": "execute_result"
    }
   ],
   "source": [
    "# opposite words\n",
    "model.wv.most_similar(positive=[\"freedom\",\"emancipation\"], negative=[\"slavery\"])"
   ]
  },
  {
   "cell_type": "code",
   "execution_count": null,
   "metadata": {},
   "outputs": [],
   "source": []
  }
 ],
 "metadata": {
  "kernelspec": {
   "display_name": "Python 3",
   "language": "python",
   "name": "python3"
  },
  "language_info": {
   "codemirror_mode": {
    "name": "ipython",
    "version": 3
   },
   "file_extension": ".py",
   "mimetype": "text/x-python",
   "name": "python",
   "nbconvert_exporter": "python",
   "pygments_lexer": "ipython3",
   "version": "3.7.2"
  }
 },
 "nbformat": 4,
 "nbformat_minor": 2
}
